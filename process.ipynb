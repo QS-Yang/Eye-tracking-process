{
 "cells": [
  {
   "cell_type": "code",
   "execution_count": 1,
   "metadata": {
    "collapsed": true
   },
   "outputs": [],
   "source": [
    "import cv2\n",
    "import numpy as np\n",
    "from PIL import Image\n",
    "import pytesseract\n",
    "#import easyocr\n",
    "from shapely.geometry import Point, Polygon"
   ]
  },
  {
   "cell_type": "code",
   "execution_count": 2,
   "metadata": {},
   "outputs": [
    {
     "name": "stdout",
     "output_type": "stream",
     "text": [
      "4.5.4\n",
      "['c:\\\\Anaconda\\\\lib\\\\site-packages\\\\cv2']\n"
     ]
    }
   ],
   "source": [
    "print(cv2.__version__)\n",
    "print(cv2.__path__)"
   ]
  },
  {
   "cell_type": "code",
   "execution_count": 3,
   "metadata": {
    "collapsed": false,
    "pycharm": {
     "name": "#%%\n"
    }
   },
   "outputs": [],
   "source": [
    "circle_color = 'red'\n",
    "overview_color = 'red'\n",
    "minibox_color = 'blue'\n",
    "color_dict = {'red': {'Lower': np.array([140, 240, 225]), 'Upper': np.array([170, 255, 245])},\n",
    "              'blue': {'Lower': np.array([100, 80, 46]), 'Upper': np.array([124, 255, 255])},\n",
    "              'green': {'Lower': np.array([35, 43, 35]), 'Upper': np.array([90, 255, 255])},\n",
    "              }"
   ]
  },
  {
   "cell_type": "code",
   "execution_count": 4,
   "metadata": {
    "collapsed": false,
    "pycharm": {
     "name": "#%%\n"
    }
   },
   "outputs": [],
   "source": [
    "def convert_coord(x, y, cvs_left, cvs_top, sx, sy, sw, sh, dx, dy, dw, dh):\n",
    "    # print(x, y, cvs_left, cvs_top, sx, sy, sw, sh, dx, dy, dw, dh)\n",
    "    x -= cvs_left\n",
    "    y -= cvs_top\n",
    "    x = min(max(x, dx), dx + dw)\n",
    "    y = min(max(y, dy), dy + dh)\n",
    "    return [(x - dx) / dw * sw + sx, (y - dy) / dh * sh + sy]"
   ]
  },
  {
   "cell_type": "code",
   "execution_count": 7,
   "metadata": {},
   "outputs": [],
   "source": [
    "img_root = '\\outputVideo'  \n",
    "fps = 60  \n",
    "\n",
    "fourcc = cv2.VideoWriter_fourcc(*'XVID')\n",
    "videoWriter = cv2.VideoWriter('outputVideo/TestVideo.mp4',fourcc,fps,(1920,1080),True)"
   ]
  },
  {
   "cell_type": "code",
   "execution_count": 8,
   "metadata": {},
   "outputs": [],
   "source": [
    "pytesseract.pytesseract.tesseract_cmd = r'E:\\Tesseract\\tesseract.exe' # where your tesseract install\n",
    "capture = cv2.VideoCapture('rawVideo/test1.mp4')\n",
    "image_coords = []\n",
    "valid_area = Polygon([(0, 50), (0, 1000), (1195, 50), (1195, 285), (1418, 285), (1418, 1000)])\n",
    "if capture.isOpened():\n",
    "    i = 0\n",
    "    while True:\n",
    "        success, frame = capture.read()\n",
    "        i += 1\n",
    "        if not success:\n",
    "            break\n",
    "        if frame is not None:\n",
    "            gs_frame = cv2.GaussianBlur(frame, (5, 5), 0)\n",
    "            hsv = cv2.cvtColor(gs_frame, cv2.COLOR_BGR2HSV)\n",
    "            erode_hsv = cv2.erode(hsv, None, iterations=2)\n",
    "            inRange_hsv = cv2.inRange(erode_hsv, color_dict[circle_color]['Lower'], color_dict[circle_color]['Upper'])\n",
    "            \n",
    "            # draw rect border\n",
    "            contours = cv2.findContours(inRange_hsv.copy(), cv2.RETR_EXTERNAL, cv2.CHAIN_APPROX_SIMPLE)[-2]\n",
    "            if len(contours) != 0:\n",
    "                c = max(contours, key=cv2.contourArea)\n",
    "                rect = cv2.minAreaRect(c)\n",
    "                box = cv2.boxPoints(rect)\n",
    "                cv2.drawContours(frame, [np.int0(box)], -1, (0, 255, 255), 2)\n",
    "                \n",
    "\n",
    "                # find center\n",
    "                M = cv2.moments(c)\n",
    "                center_x = int(M['m10'] / M['m00'])\n",
    "                center_y = int(M['m01'] / M['m00'])\n",
    "                image_coords.append([center_x, center_y])\n",
    "                # if not valid_area.contains(Point(center_x, center_y)):  \n",
    "                #     continue\n",
    "                frame_copy = frame.copy()\n",
    "                cv2.circle(frame_copy, (center_x, center_y), 7, 128, -1)\n",
    "                text = '(' + str(center_x) + ', ' + str(center_y) + ')'\n",
    "                cv2.putText(frame_copy, text, (center_x - 50, center_y + 40), cv2.FONT_HERSHEY_SIMPLEX, 1, (255, 255, 0), 2, cv2.LINE_AA)\n",
    "                # cv2.imshow(\"img\", frame_copy)\n",
    "                # cv2.waitKey()\n",
    "                # cv2.destroyAllWindows()\n",
    "                videoWriter.write(frame_copy)\n",
    "videoWriter.release()\n",
    "        "
   ]
  }
 ],
 "metadata": {
  "interpreter": {
   "hash": "6f5583cf1d9466b5c27e75c89cc6b383bed5736d6b16c51c8074d8690011a952"
  },
  "kernelspec": {
   "display_name": "Python 3.9.7 ('base')",
   "language": "python",
   "name": "python3"
  },
  "language_info": {
   "codemirror_mode": {
    "name": "ipython",
    "version": 3
   },
   "file_extension": ".py",
   "mimetype": "text/x-python",
   "name": "python",
   "nbconvert_exporter": "python",
   "pygments_lexer": "ipython3",
   "version": "3.9.7"
  }
 },
 "nbformat": 4,
 "nbformat_minor": 0
}
